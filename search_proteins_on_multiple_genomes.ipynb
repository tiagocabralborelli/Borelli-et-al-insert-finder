{
 "cells": [
  {
   "cell_type": "markdown",
   "metadata": {},
   "source": [
    "# Searching sanger reads on genomes using BLAST\n",
    "## Unziping data\n",
    "I used a bash magic to unzip the `server_data.zip` file that was uploaded to my server."
   ]
  },
  {
   "cell_type": "code",
   "execution_count": 1,
   "metadata": {},
   "outputs": [
    {
     "output_type": "stream",
     "name": "stdout",
     "text": "Archive:  server_data.zip\n  inflating: blast_indexing.csv      \n  inflating: fgr0023_f01_trimmed.fasta  \n  inflating: fgr0023_f17_trimmed.fasta  \n  inflating: fgr0023_r01_trimmed.fasta  \n  inflating: fgr0023_r17_trimmed.fasta  \n  inflating: fgr0027_f01_trimmed.fasta  \n  inflating: fgr0027_f17_trimmed.fasta  \n  inflating: fgr0027_r01_trimmed.fasta  \n  inflating: fgr0027_r17_trimmed.fasta  \n  inflating: fgr0072_f01_trimmed.fasta  \n  inflating: fgr0072_f17_trimmed.fasta  \n  inflating: fgr0072_r01_trimmed.fasta  \n  inflating: fgr0072_r17_trimmed.fasta  \n  inflating: fgr1122_f01_trimmed.fasta  \n  inflating: fgr1122_f17_trimmed.fasta  \n  inflating: fgr1122_r01_trimmed.fasta  \n  inflating: fgr1122_r17_trimmed.fasta  \n extracting: fgr1149_f01_trimmed.fasta  \n  inflating: fgr1149_f17_trimmed.fasta  \n  inflating: fgr1149_r01_trimmed.fasta  \n  inflating: fgr1149_r17_trimmed.fasta  \n  inflating: fgr1183_f01_trimmed.fasta  \n  inflating: fgr1183_f17_trimmed.fasta  \n  inflating: fgr1183_r01_trimmed.fasta  \n  inflating: fgr1183_r17_trimmed.fasta  \n  inflating: fgr1184_f01_trimmed.fasta  \n  inflating: fgr1184_f17_trimmed.fasta  \n  inflating: fgr1184_r01_trimmed.fasta  \n  inflating: fgr1184_r17_trimmed.fasta  \n  inflating: fgr1190_f01_trimmed.fasta  \n  inflating: fgr1190_f17_trimmed.fasta  \n  inflating: fgr1190_r01_trimmed.fasta  \n  inflating: fgr1190_r17_trimmed.fasta  \n  inflating: genome3.fasta\n  inflating: genome36.fasta\n  inflating: genome40.fasta\n"
    }
   ],
   "source": [
    "!unzip server_data.zip"
   ]
  },
  {
   "cell_type": "markdown",
   "metadata": {},
   "source": [
    "## Importing packages"
   ]
  },
  {
   "cell_type": "code",
   "execution_count": 2,
   "metadata": {},
   "outputs": [],
   "source": [
    "from Bio.Blast.Applications import NcbiblastnCommandline\n",
    "from Bio.Blast.Applications import NcbiblastformatterCommandline\n",
    "import pandas as pd\n",
    "import os"
   ]
  },
  {
   "cell_type": "markdown",
   "metadata": {},
   "source": [
    "## Inspecting `blast_indexing.csv`\n",
    "The `blast_indexing.csv` was created to link queries and the databases that they will be searched against."
   ]
  },
  {
   "cell_type": "code",
   "execution_count": null,
   "metadata": {},
   "outputs": [],
   "source": [
    "blast_index = pd.read_csv('blast_indexing.csv')\n",
    "blast_index"
   ]
  },
  {
   "cell_type": "markdown",
   "metadata": {},
   "source": [
    "## Creating blast databases"
   ]
  },
  {
   "cell_type": "code",
   "execution_count": 4,
   "metadata": {},
   "outputs": [
    {
     "output_type": "stream",
     "name": "stdout",
     "text": "\n\nBuilding a new DB, current time: 07/09/2020 23:34:20\nNew DB name:   /home/gabriel/projects/functional_genomics_of_resistome/results/2020.07.09/genome3_blast_database\nNew DB title:  genome3.fasta\nSequence type: Nucleotide\nKeep MBits: T\nMaximum file size: 1000000000B\nAdding sequences from FASTA; added 466 sequences in 0.076216 seconds.\n\n\nBuilding a new DB, current time: 07/09/2020 23:34:21\nNew DB name:   /home/gabriel/projects/functional_genomics_of_resistome/results/2020.07.09/genome36_blast_database\nNew DB title:  genome36.fasta\nSequence type: Nucleotide\nKeep MBits: T\nMaximum file size: 1000000000B\nAdding sequences from FASTA; added 275 sequences in 0.0717859 seconds.\n\n\nBuilding a new DB, current time: 07/09/2020 23:34:22\nNew DB name:   /home/gabriel/projects/functional_genomics_of_resistome/results/2020.07.09/genome40_blast_database\nNew DB title:  genome40.fasta\nSequence type: Nucleotide\nKeep MBits: T\nMaximum file size: 1000000000B\nAdding sequences from FASTA; added 160 sequences in 0.0513761 seconds.\n"
    }
   ],
   "source": [
    "!makeblastdb -in housekeeping_genes.fasta -out housekeeping_genes_database -dbtype nucl -parse_seqids\n"
   ]
  },
  {
   "cell_type": "code",
   "execution_count": 5,
   "metadata": {},
   "outputs": [
    {
     "output_type": "stream",
     "name": "stdout",
     "text": "fgr0023_f01_trimmed.fasta will now be blasted against genome40.fasta\nCreating .xml file\nCreating .txt file\nCreating .csv file\nCreating .tsv file\nfgr0023_f17_trimmed.fasta will now be blasted against genome40.fasta\nCreating .xml file\nCreating .txt file\nCreating .csv file\nCreating .tsv file\nfgr0023_r01_trimmed.fasta will now be blasted against genome40.fasta\nCreating .xml file\nCreating .txt file\nCreating .csv file\nCreating .tsv file\nfgr0023_r17_trimmed.fasta will now be blasted against genome40.fasta\nCreating .xml file\nCreating .txt file\nCreating .csv file\nCreating .tsv file\nfgr0027_f01_trimmed.fasta will now be blasted against genome3.fasta\nCreating .xml file\nCreating .txt file\nCreating .csv file\nCreating .tsv file\nfgr0027_f17_trimmed.fasta will now be blasted against genome3.fasta\nCreating .xml file\nCreating .txt file\nCreating .csv file\nCreating .tsv file\nfgr0027_r01_trimmed.fasta will now be blasted against genome3.fasta\nCreating .xml file\nCreating .txt file\nCreating .csv file\nCreating .tsv file\nfgr0027_r17_trimmed.fasta will now be blasted against genome3.fasta\nCreating .xml file\nCreating .txt file\nCreating .csv file\nCreating .tsv file\nfgr0072_f01_trimmed.fasta will now be blasted against genome3.fasta\nCreating .xml file\nCreating .txt file\nCreating .csv file\nCreating .tsv file\nfgr0072_f17_trimmed.fasta will now be blasted against genome3.fasta\nCreating .xml file\nCreating .txt file\nCreating .csv file\nCreating .tsv file\nfgr0072_r01_trimmed.fasta will now be blasted against genome3.fasta\nCreating .xml file\nCreating .txt file\nCreating .csv file\nCreating .tsv file\nfgr0072_r17_trimmed.fasta will now be blasted against genome3.fasta\nCreating .xml file\nCreating .txt file\nCreating .csv file\nCreating .tsv file\nfgr1122_f01_trimmed.fasta will now be blasted against genome36.fasta\nCreating .xml file\nCreating .txt file\nCreating .csv file\nCreating .tsv file\nfgr1122_f17_trimmed.fasta will now be blasted against genome36.fasta\nCreating .xml file\nCreating .txt file\nCreating .csv file\nCreating .tsv file\nfgr1122_r01_trimmed.fasta will now be blasted against genome36.fasta\nCreating .xml file\nCreating .txt file\nCreating .csv file\nCreating .tsv file\nfgr1122_r17_trimmed.fasta will now be blasted against genome36.fasta\nCreating .xml file\nCreating .txt file\nCreating .csv file\nCreating .tsv file\nfgr1149_f01_trimmed.fasta will now be blasted against genome36.fasta\nCreating .xml file\nCreating .txt file\nCreating .csv file\nCreating .tsv file\nfgr1149_f17_trimmed.fasta will now be blasted against genome36.fasta\nCreating .xml file\nCreating .txt file\nCreating .csv file\nCreating .tsv file\nfgr1149_r01_trimmed.fasta will now be blasted against genome36.fasta\nCreating .xml file\nCreating .txt file\nCreating .csv file\nCreating .tsv file\nfgr1149_r17_trimmed.fasta will now be blasted against genome36.fasta\nCreating .xml file\nCreating .txt file\nCreating .csv file\nCreating .tsv file\nfgr1183_f01_trimmed.fasta will now be blasted against genome40.fasta\nCreating .xml file\nCreating .txt file\nCreating .csv file\nCreating .tsv file\nfgr1183_f17_trimmed.fasta will now be blasted against genome40.fasta\nCreating .xml file\nCreating .txt file\nCreating .csv file\nCreating .tsv file\nfgr1183_r01_trimmed.fasta will now be blasted against genome40.fasta\nCreating .xml file\nCreating .txt file\nCreating .csv file\nCreating .tsv file\nfgr1183_r17_trimmed.fasta will now be blasted against genome40.fasta\nCreating .xml file\nCreating .txt file\nCreating .csv file\nCreating .tsv file\nfgr1184_f01_trimmed.fasta will now be blasted against genome40.fasta\nCreating .xml file\nCreating .txt file\nCreating .csv file\nCreating .tsv file\nfgr1184_f17_trimmed.fasta will now be blasted against genome40.fasta\nCreating .xml file\nCreating .txt file\nCreating .csv file\nCreating .tsv file\nfgr1184_r01_trimmed.fasta will now be blasted against genome40.fasta\nCreating .xml file\nCreating .txt file\nCreating .csv file\nCreating .tsv file\nfgr1184_r17_trimmed.fasta will now be blasted against genome40.fasta\nCreating .xml file\nCreating .txt file\nCreating .csv file\nCreating .tsv file\nfgr1190_f01_trimmed.fasta will now be blasted against genome40.fasta\nCreating .xml file\nCreating .txt file\nCreating .csv file\nCreating .tsv file\nfgr1190_f17_trimmed.fasta will now be blasted against genome40.fasta\nCreating .xml file\nCreating .txt file\nCreating .csv file\nCreating .tsv file\nfgr1190_r01_trimmed.fasta will now be blasted against genome40.fasta\nCreating .xml file\nCreating .txt file\nCreating .csv file\nCreating .tsv file\nfgr1190_r17_trimmed.fasta will now be blasted against genome40.fasta\nCreating .xml file\nCreating .txt file\nCreating .csv file\nCreating .tsv file\nJob finished\n"
    }
   ],
   "source": [
    "for line in blast_index.index:\n",
    "    blast_run = NcbiblastnCommandline(query = blast_index['queries'][line],\n",
    "                                      db = 'housekeeping_genes_database'\n",
    "                                      num_threads = 12, outfmt = 11,\n",
    "                                      out = (blast_index['queries'][line][0:-6] + '_blastn_result.asn'))\n",
    "    print(blast_index['reads'][line] + ' will now be blasted against ' + blast_index['genomes']\n",
    "          [line])\n",
    "    blast_run()\n",
    "    print('Creating .xml file')\n",
    "    create_xml = NcbiblastformatterCommandline(archive = (blast_index['reads'][line][0:-6] + '_blastn_result.asn'),\n",
    "                                               outfmt = 5,\n",
    "                                               out = (blast_index['reads'][line][0:-6] + '_blastn_result.xml'))\n",
    "    create_xml()\n",
    "    print('Creating .txt file') \n",
    "    create_txt = NcbiblastformatterCommandline(archive = (blast_index['reads'][line][0:-6] + '_blastn_result.asn'),\n",
    "                                               outfmt = 0,\n",
    "                                               out = (blast_index['reads'][line][0:-6] + '_blastn_result.txt'))\n",
    "    create_txt()\n",
    "    print('Creating .csv file') \n",
    "    create_csv = NcbiblastformatterCommandline(archive = (blast_index['reads'][line][0:-6] + '_blastn_result.asn'),\n",
    "                                               outfmt = 10,\n",
    "                                               out = (blast_index['reads'][line][0:-6] + '_blastn_result.csv'))\n",
    "    create_csv()\n",
    "    print('Creating .tsv file') \n",
    "    create_tsv = NcbiblastformatterCommandline(archive = (blast_index['reads'][line][0:-6] + '_blastn_result.asn'),\n",
    "                                               outfmt = 6,\n",
    "                                               out = (blast_index['reads'][line][0:-6] + '_blastn_result.tsv'))\n",
    "    create_tsv()\n",
    "print('Job finished')"
   ]
  },
  {
   "cell_type": "markdown",
   "metadata": {},
   "source": [
    "## Organizing and compressing results"
   ]
  },
  {
   "cell_type": "code",
   "execution_count": 6,
   "metadata": {},
   "outputs": [
    {
     "output_type": "stream",
     "name": "stdout",
     "text": "\n7-Zip [64] 16.02 : Copyright (c) 1999-2016 Igor Pavlov : 2016-05-21\np7zip Version 16.02 (locale=en_US.UTF-8,Utf16=on,HugeFiles=on,64 bits,12 CPUs Intel(R) Xeon(R) Bronze 3104 CPU @ 1.70GHz (50654),ASM,AES-NI)\n\nScanning the drive:\n6 folders, 161 files, 638401 bytes (624 KiB)\n\nCreating archive: blastn_results.7z\n\nItems to compress: 167\n\n\nFiles read from disk: 157\nArchive size: 38326 bytes (38 KiB)\nEverything is Ok\n"
    }
   ],
   "source": [
    "%%bash\n",
    "mkdir blastn_results\n",
    "mkdir blastn_results/asn_files\n",
    "mkdir blastn_results/txt_files\n",
    "mkdir blastn_results/tsv_files\n",
    "mkdir blastn_results/csv_files\n",
    "mkdir blastn_results/xml_files\n",
    "mv *.asn blastn_results/asn_files\n",
    "mv *.txt blastn_results/txt_files\n",
    "mv *.tsv blastn_results/tsv_files\n",
    "mv *.csv blastn_results/csv_files\n",
    "mv *.xml blastn_results/xml_files\n",
    "7z a blastn_results blastn_results"
   ]
  }
 ],
 "metadata": {
  "language_info": {
   "codemirror_mode": {
    "name": "ipython",
    "version": 3
   },
   "file_extension": ".py",
   "mimetype": "text/x-python",
   "name": "python",
   "nbconvert_exporter": "python",
   "pygments_lexer": "ipython3",
   "version": "3.7.6-final"
  },
  "orig_nbformat": 2,
  "kernelspec": {
   "name": "python3",
   "display_name": "Python 3"
  }
 },
 "nbformat": 4,
 "nbformat_minor": 2
}